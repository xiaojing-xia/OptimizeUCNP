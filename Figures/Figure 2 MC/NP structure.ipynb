{
 "cells": [
  {
   "cell_type": "code",
   "execution_count": 1,
   "id": "9db9ac70",
   "metadata": {},
   "outputs": [],
   "source": [
    "def showNP_YbEr(temp):   \n",
    "    fig, ax = plt.subplots()\n",
    "    ax.axis('equal')\n",
    "    labels=[\"Yb\", \"Er\", \"Tm\", \"Y\"]\n",
    "    cm = colors.ListedColormap(['#D5BB67', '#E3A39A','#78ACA8', '#E7E7E7','#20425B'])\n",
    "    cmap = cm([0,1,2,3,4])\n",
    "\n",
    "    yttrium1 = 1- temp.yb_1 - temp.er_1 \n",
    "    yttrium2 = 1- temp.yb_2 - temp.er_2 \n",
    "    #pie_surface, _ = ax.pie([0, 0, 0, 0,1], radius=40/34, colors = cmap)\n",
    "    pie_shell, _ = ax.pie([temp.yb_2,temp.er_2,0, round(yttrium2,3),0], radius=1, colors = cmap)\n",
    "    pie_core, _ = ax.pie([temp.yb_1,temp.er_1,0, round(yttrium1,3),0], radius =temp.radius/34, colors = cmap)\n",
    "    plt.setp(pie_core,edgecolor='white')\n",
    "    plt.setp(pie_shell,edgecolor='white')\n",
    "    plt.show()"
   ]
  },
  {
   "cell_type": "code",
   "execution_count": 4,
   "id": "922979b9",
   "metadata": {},
   "outputs": [
    {
     "data": {
      "text/html": [
       "<div>\n",
       "<style scoped>\n",
       "    .dataframe tbody tr th:only-of-type {\n",
       "        vertical-align: middle;\n",
       "    }\n",
       "\n",
       "    .dataframe tbody tr th {\n",
       "        vertical-align: top;\n",
       "    }\n",
       "\n",
       "    .dataframe thead th {\n",
       "        text-align: right;\n",
       "    }\n",
       "</style>\n",
       "<table border=\"1\" class=\"dataframe\">\n",
       "  <thead>\n",
       "    <tr style=\"text-align: right;\">\n",
       "      <th></th>\n",
       "      <th>yb_1</th>\n",
       "      <th>er_1</th>\n",
       "      <th>yb_2</th>\n",
       "      <th>er_2</th>\n",
       "      <th>radius</th>\n",
       "    </tr>\n",
       "  </thead>\n",
       "  <tbody>\n",
       "    <tr>\n",
       "      <th>0</th>\n",
       "      <td>0.8</td>\n",
       "      <td>0.1</td>\n",
       "      <td>0.2</td>\n",
       "      <td>0.5</td>\n",
       "      <td>25</td>\n",
       "    </tr>\n",
       "  </tbody>\n",
       "</table>\n",
       "</div>"
      ],
      "text/plain": [
       "   yb_1  er_1  yb_2  er_2  radius\n",
       "0   0.8   0.1   0.2   0.5      25"
      ]
     },
     "execution_count": 4,
     "metadata": {},
     "output_type": "execute_result"
    }
   ],
   "source": [
    "import matplotlib.pyplot as plt\n",
    "import matplotlib.colors as colors\n",
    "import pandas as pd\n",
    "\n",
    "dict = {'yb_1':[0.8], 'er_1':0.1, 'yb_2':[0.2],'er_2':[0.5], 'radius':[25]}\n",
    "df = pd.DataFrame(dict)\n",
    "df"
   ]
  },
  {
   "cell_type": "code",
   "execution_count": 7,
   "id": "b8a9dc24",
   "metadata": {},
   "outputs": [
    {
     "data": {
      "image/png": "[encoded data removed]",
      "text/plain": [
       "<Figure size 432x288 with 1 Axes>"
      ]
     },
     "metadata": {},
     "output_type": "display_data"
    }
   ],
   "source": [
    "temp = df.iloc[0]\n",
    "fig, ax = plt.subplots()\n",
    "ax.axis('equal')\n",
    "labels=[\"Yb\", \"Er\", \"Tm\", \"Y\"]\n",
    "cm = colors.ListedColormap(['#D5BB67', '#E3A39A','#78ACA8', '#E7E7E7','#20425B'])\n",
    "cmap = cm([0,1,2,3,4])\n",
    "\n",
    "yttrium1 = 1- temp.yb_1 - temp.er_1 \n",
    "yttrium2 = 1- temp.yb_2 - temp.er_2 \n",
    "#pie_surface, _ = ax.pie([0, 0, 0, 0,1], radius=40/34, colors = cmap)\n",
    "pie_shell, _ = ax.pie([temp.yb_2,temp.er_2,0, round(yttrium2,3),0], radius=1, colors = cmap)\n",
    "pie_core, _ = ax.pie([temp.yb_1,temp.er_1,0, round(yttrium1,3),0], radius =temp.radius/34, colors = cmap)\n",
    "plt.setp(pie_core,edgecolor='white')\n",
    "plt.setp(pie_shell,edgecolor='white')\n",
    "plt.show()\n",
    "fig.savefig('NPstructure_noSurface.pdf') "
   ]
  }
 ],
 "metadata": {
  "kernelspec": {
   "display_name": "Python 3 (ipykernel)",
   "language": "python",
   "name": "python3"
  },
  "language_info": {
   "codemirror_mode": {
    "name": "ipython",
    "version": 3
   },
   "file_extension": ".py",
   "mimetype": "text/x-python",
   "name": "python",
   "nbconvert_exporter": "python",
   "pygments_lexer": "ipython3",
   "version": "3.9.7"
  }
 },
 "nbformat": 4,
 "nbformat_minor": 5
}
