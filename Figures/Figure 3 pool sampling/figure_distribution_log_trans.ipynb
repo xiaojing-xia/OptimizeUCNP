{
 "cells": [
  {
   "cell_type": "code",
   "execution_count": 1,
   "id": "3403bc00",
   "metadata": {},
   "outputs": [],
   "source": [
    "import argparse\n",
    "from datetime import datetime\n",
    "import math\n",
    "import matplotlib.pyplot as plt\n",
    "import numpy as np\n",
    "import pandas as pd\n",
    "import time\n",
    "import torch"
   ]
  },
  {
   "cell_type": "code",
   "execution_count": 15,
   "id": "143d09b8",
   "metadata": {},
   "outputs": [],
   "source": [
    "# load random search dataset\n",
    "DATA_DEST2 = \"./../saved_data/800_100000_distribution.csv\"\n",
    "#df_rs = df_rs[:300] # only the first 300 sims are from RS\n",
    "df_eric = pd.read_csv(DATA_DEST2)"
   ]
  },
  {
   "cell_type": "code",
   "execution_count": 3,
   "id": "70908e85",
   "metadata": {},
   "outputs": [],
   "source": [
    "\n",
    "plt.rcParams[\"font.family\"] = \"arial\"\n",
    "\n",
    "def plot_hist_uv(df_list):\n",
    "    ems=[] # the list to save results of each trials\n",
    "\n",
    "    for df in df_list:\n",
    "        for i in range(len(df)):\n",
    "            ems.append(df.iloc[i].UV)\n",
    "    return ems\n"
   ]
  },
  {
   "cell_type": "code",
   "execution_count": 4,
   "id": "b529d79a",
   "metadata": {},
   "outputs": [],
   "source": [
    "def plot_hist_uv_log(df_list):\n",
    "    ems=[] # the list to save results of each trials\n",
    "\n",
    "    for df in df_list:\n",
    "        for i in range(len(df)):\n",
    "            ems.append(np.log(df.iloc[i].UV+1))\n",
    "    return ems\n"
   ]
  },
  {
   "cell_type": "code",
   "execution_count": 13,
   "id": "b6a0e18e",
   "metadata": {},
   "outputs": [
    {
     "data": {
      "image/png": "[encoded data removed]",
      "text/plain": [
       "<Figure size 288x126 with 1 Axes>"
      ]
     },
     "metadata": {
      "needs_background": "light"
     },
     "output_type": "display_data"
    }
   ],
   "source": [
    "df_list = [df_eric]\n",
    "rand_ems = plot_hist_uv(df_list)\n",
    "\n",
    "FontSize = 18\n",
    "ticksize = 14\n",
    "\n",
    "bins = 20\n",
    "fig, ax = plt.subplots(figsize=(4, 3.5/2))\n",
    "\n",
    "n, bins, patches = plt.hist(rand_ems, bins=bins, alpha=0.7, color = 'grey', edgecolor = 'white', label='lin', density = True)\n",
    "plt.xlabel('UV-V Intensity', fontsize = FontSize)\n",
    "plt.ylabel('Frequency', fontsize = FontSize)\n",
    "plt.legend(loc='upper right', fontsize = FontSize,frameon=False)\n",
    "plt.locator_params(axis='y', nbins=4)\n",
    "plt.xticks(fontsize=ticksize)\n",
    "plt.yticks(fontsize=ticksize)\n",
    "ax.yaxis.set_tick_params(labelleft=False)\n",
    "ax.yaxis.set_tick_params(left=False)\n",
    "#plt.xlim([-10,7500])\n",
    "\n",
    "#plt.xscale(\"log\")\n",
    " \n",
    "plt.savefig('distribution_hist_lin_5000data_withzero.pdf', bbox_inches = 'tight')\n",
    "# plt.savefig('intensity_hist.png')\n",
    "\n"
   ]
  },
  {
   "cell_type": "code",
   "execution_count": 16,
   "id": "54a8d568",
   "metadata": {},
   "outputs": [
    {
     "data": {
      "image/png": "[encoded data removed]",
      "text/plain": [
       "<Figure size 288x126 with 1 Axes>"
      ]
     },
     "metadata": {
      "needs_background": "light"
     },
     "output_type": "display_data"
    }
   ],
   "source": [
    "\n",
    "log_ems = plot_hist_uv_log(df_list)\n",
    "bins =20\n",
    "fig, ax = plt.subplots(figsize=(4, 3.5/2))\n",
    "\n",
    "n, bins, patches = plt.hist(log_ems, bins=bins, alpha=0.7, color = 'grey', edgecolor = 'white', label='log', density = True)\n",
    "plt.xlabel('UV-V Intensity, log', fontsize = FontSize)\n",
    "plt.ylabel('Frequency', fontsize = FontSize)\n",
    "#plt.legend(loc='upper left', fontsize = FontSize,frameon=False)\n",
    "plt.locator_params(axis='y', nbins=4)\n",
    "plt.xticks(fontsize=ticksize)\n",
    "plt.yticks(fontsize=ticksize)\n",
    "ax.yaxis.set_tick_params(labelleft=False)\n",
    "ax.yaxis.set_tick_params(left=False)\n",
    "plt.savefig('distribution_hist_log_5000data_withzero.pdf', bbox_inches = 'tight')"
   ]
  }
 ],
 "metadata": {
  "kernelspec": {
   "display_name": "Python 3 (ipykernel)",
   "language": "python",
   "name": "python3"
  },
  "language_info": {
   "codemirror_mode": {
    "name": "ipython",
    "version": 3
   },
   "file_extension": ".py",
   "mimetype": "text/x-python",
   "name": "python",
   "nbconvert_exporter": "python",
   "pygments_lexer": "ipython3",
   "version": "3.9.7"
  }
 },
 "nbformat": 4,
 "nbformat_minor": 5
}
