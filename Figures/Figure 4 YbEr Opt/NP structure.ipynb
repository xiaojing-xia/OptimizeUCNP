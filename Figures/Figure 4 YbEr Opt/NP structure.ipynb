{
 "cells": [
  {
   "cell_type": "code",
   "execution_count": 1,
   "id": "9db9ac70",
   "metadata": {},
   "outputs": [],
   "source": [
    "def showNP_YbEr(temp):   \n",
    "    fig, ax = plt.subplots()\n",
    "    ax.axis('equal')\n",
    "    labels=[\"Yb\", \"Er\", \"Tm\", \"Y\"]\n",
    "    cm = colors.ListedColormap(['#D5BB67', '#E3A39A','#78ACA8', '#E7E7E7','#20425B'])\n",
    "    cmap = cm([0,1,2,3,4])\n",
    "\n",
    "    yttrium1 = 1- temp.yb_1 - temp.er_1 \n",
    "    yttrium2 = 1- temp.yb_2 - temp.er_2 \n",
    "    pie_surface, _ = ax.pie([0, 0, 0, 0,1], radius=40/34, colors = cmap)\n",
    "    pie_shell, _ = ax.pie([temp.yb_2,temp.er_2,0, round(yttrium2,3),0], radius=1, colors = cmap)\n",
    "    pie_core, _ = ax.pie([temp.yb_1,temp.er_1,0, round(yttrium1,3),0], radius =temp.radius/34, colors = cmap)\n",
    "    plt.setp(pie_core,edgecolor='white')\n",
    "    plt.setp(pie_shell,edgecolor='white')\n",
    "    plt.show()"
   ]
  },
  {
   "cell_type": "code",
   "execution_count": 3,
   "id": "6a88b686",
   "metadata": {},
   "outputs": [],
   "source": [
    "import pandas as pd\n",
    "DATA_DEST = \"../saved_data/simulation_log_YbEr_UV_logEmission_beta=5.csv\"\n",
    "df = pd.read_csv(DATA_DEST)\n"
   ]
  },
  {
   "cell_type": "code",
   "execution_count": 7,
   "id": "ed12d457",
   "metadata": {},
   "outputs": [],
   "source": [
    "import pandas as pd\n",
    "DATA_DEST1 = \"./../saved_data/simulation_log_YbEr_UV_logEmission_beta=5.csv\"\n",
    "DATA_DEST2 = \"./../saved_data/simulation_log_YbEr_UV_logEmission_beta=5_2.csv\"\n",
    "DATA_DEST3 = \"./../saved_data/simulation_log_YbEr_UV_logEmission_beta=5_3.csv\"\n",
    "DATA_DEST4 = \"./../saved_data/simulation_log_YbEr_UV_logEmission_beta=5_4.csv\"\n",
    "DATA_DEST5 = \"./../saved_data/simulation_log_YbEr_UV_logEmission_beta=5_5.csv\"\n",
    "\n",
    "\n",
    "\n",
    "df1 = pd.read_csv(DATA_DEST1)\n",
    "df2 = pd.read_csv(DATA_DEST2)\n",
    "df3 = pd.read_csv(DATA_DEST3)\n",
    "df4 = pd.read_csv(DATA_DEST4)\n",
    "df5 = pd.read_csv(DATA_DEST5)"
   ]
  },
  {
   "cell_type": "code",
   "execution_count": 8,
   "id": "f7a0f95e",
   "metadata": {},
   "outputs": [
    {
     "data": {
      "image/png": "[encoded data removed]",
      "text/plain": [
       "<Figure size 432x288 with 1 Axes>"
      ]
     },
     "metadata": {},
     "output_type": "display_data"
    }
   ],
   "source": [
    "import matplotlib.pyplot as plt\n",
    "import matplotlib.colors as colors\n",
    "temp = df1.iloc[107]\n",
    "fig, ax = plt.subplots()\n",
    "ax.axis('equal')\n",
    "labels=[\"Yb\", \"Er\", \"Tm\", \"Y\"]\n",
    "cm = colors.ListedColormap(['#D5BB67', '#E3A39A','#78ACA8', '#E7E7E7','#20425B'])\n",
    "cmap = cm([0,1,2,3,4])\n",
    "\n",
    "yttrium1 = 1- temp.yb_1 - temp.er_1 \n",
    "yttrium2 = 1- temp.yb_2 - temp.er_2 \n",
    "pie_surface, _ = ax.pie([0, 0, 0, 0,1], radius=40/34, colors = cmap)\n",
    "pie_shell, _ = ax.pie([temp.yb_2,temp.er_2,0, round(yttrium2,3),0], radius=1, colors = cmap)\n",
    "pie_core, _ = ax.pie([temp.yb_1,temp.er_1,0, round(yttrium1,3),0], radius =temp.radius/34, colors = cmap)\n",
    "plt.setp(pie_core,edgecolor='white')\n",
    "plt.setp(pie_shell,edgecolor='white')\n",
    "plt.show()\n",
    "fig.savefig('NPstructure_bestUV.pdf') "
   ]
  }
 ],
 "metadata": {
  "kernelspec": {
   "display_name": "Python 3 (ipykernel)",
   "language": "python",
   "name": "python3"
  },
  "language_info": {
   "codemirror_mode": {
    "name": "ipython",
    "version": 3
   },
   "file_extension": ".py",
   "mimetype": "text/x-python",
   "name": "python",
   "nbconvert_exporter": "python",
   "pygments_lexer": "ipython3",
   "version": "3.9.7"
  }
 },
 "nbformat": 4,
 "nbformat_minor": 5
}
